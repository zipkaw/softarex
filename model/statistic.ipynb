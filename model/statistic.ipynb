{
 "cells": [
  {
   "cell_type": "code",
   "execution_count": 62,
   "id": "081f08d8",
   "metadata": {
    "execution": {
     "iopub.execute_input": "2022-10-02T18:17:50.805101Z",
     "iopub.status.busy": "2022-10-02T18:17:50.804422Z",
     "iopub.status.idle": "2022-10-02T18:17:58.119012Z",
     "shell.execute_reply": "2022-10-02T18:17:58.117936Z"
    },
    "papermill": {
     "duration": 7.332912,
     "end_time": "2022-10-02T18:17:58.121547",
     "exception": false,
     "start_time": "2022-10-02T18:17:50.788635",
     "status": "completed"
    },
    "tags": []
   },
   "outputs": [
    {
     "data": {
      "text/plain": [
       "<Figure size 1000x800 with 0 Axes>"
      ]
     },
     "execution_count": 62,
     "metadata": {},
     "output_type": "execute_result"
    },
    {
     "data": {
      "text/plain": [
       "<Figure size 1000x800 with 0 Axes>"
      ]
     },
     "metadata": {},
     "output_type": "display_data"
    }
   ],
   "source": [
    "import numpy as np\n",
    "import pandas as pd\n",
    "import matplotlib.pyplot as plt\n",
    "import seaborn as sns\n",
    "from datetime import date\n",
    "from datetime import datetime\n",
    "\n",
    "plt.figure(figsize=(10, 8))"
   ]
  },
  {
   "cell_type": "code",
   "execution_count": 52,
   "id": "12dbf9e8",
   "metadata": {
    "execution": {
     "iopub.execute_input": "2022-10-02T18:17:58.152774Z",
     "iopub.status.busy": "2022-10-02T18:17:58.152115Z",
     "iopub.status.idle": "2022-10-02T18:17:58.202239Z",
     "shell.execute_reply": "2022-10-02T18:17:58.201213Z"
    },
    "papermill": {
     "duration": 0.068446,
     "end_time": "2022-10-02T18:17:58.204698",
     "exception": false,
     "start_time": "2022-10-02T18:17:58.136252",
     "status": "completed"
    },
    "tags": []
   },
   "outputs": [
    {
     "data": {
      "text/html": [
       "<div>\n",
       "<style scoped>\n",
       "    .dataframe tbody tr th:only-of-type {\n",
       "        vertical-align: middle;\n",
       "    }\n",
       "\n",
       "    .dataframe tbody tr th {\n",
       "        vertical-align: top;\n",
       "    }\n",
       "\n",
       "    .dataframe thead th {\n",
       "        text-align: right;\n",
       "    }\n",
       "</style>\n",
       "<table border=\"1\" class=\"dataframe\">\n",
       "  <thead>\n",
       "    <tr style=\"text-align: right;\">\n",
       "      <th></th>\n",
       "      <th>Id</th>\n",
       "      <th>Open Date</th>\n",
       "      <th>City</th>\n",
       "      <th>City Group</th>\n",
       "      <th>Type</th>\n",
       "      <th>P1</th>\n",
       "      <th>P2</th>\n",
       "      <th>P3</th>\n",
       "      <th>P4</th>\n",
       "      <th>P5</th>\n",
       "      <th>...</th>\n",
       "      <th>P29</th>\n",
       "      <th>P30</th>\n",
       "      <th>P31</th>\n",
       "      <th>P32</th>\n",
       "      <th>P33</th>\n",
       "      <th>P34</th>\n",
       "      <th>P35</th>\n",
       "      <th>P36</th>\n",
       "      <th>P37</th>\n",
       "      <th>revenue</th>\n",
       "    </tr>\n",
       "  </thead>\n",
       "  <tbody>\n",
       "    <tr>\n",
       "      <th>0</th>\n",
       "      <td>0</td>\n",
       "      <td>07/17/1999</td>\n",
       "      <td>İstanbul</td>\n",
       "      <td>Big Cities</td>\n",
       "      <td>IL</td>\n",
       "      <td>4</td>\n",
       "      <td>5.0</td>\n",
       "      <td>4.0</td>\n",
       "      <td>4.0</td>\n",
       "      <td>2</td>\n",
       "      <td>...</td>\n",
       "      <td>3.0</td>\n",
       "      <td>5</td>\n",
       "      <td>3</td>\n",
       "      <td>4</td>\n",
       "      <td>5</td>\n",
       "      <td>5</td>\n",
       "      <td>4</td>\n",
       "      <td>3</td>\n",
       "      <td>4</td>\n",
       "      <td>5653753.0</td>\n",
       "    </tr>\n",
       "    <tr>\n",
       "      <th>1</th>\n",
       "      <td>1</td>\n",
       "      <td>02/14/2008</td>\n",
       "      <td>Ankara</td>\n",
       "      <td>Big Cities</td>\n",
       "      <td>FC</td>\n",
       "      <td>4</td>\n",
       "      <td>5.0</td>\n",
       "      <td>4.0</td>\n",
       "      <td>4.0</td>\n",
       "      <td>1</td>\n",
       "      <td>...</td>\n",
       "      <td>3.0</td>\n",
       "      <td>0</td>\n",
       "      <td>0</td>\n",
       "      <td>0</td>\n",
       "      <td>0</td>\n",
       "      <td>0</td>\n",
       "      <td>0</td>\n",
       "      <td>0</td>\n",
       "      <td>0</td>\n",
       "      <td>6923131.0</td>\n",
       "    </tr>\n",
       "    <tr>\n",
       "      <th>2</th>\n",
       "      <td>2</td>\n",
       "      <td>03/09/2013</td>\n",
       "      <td>Diyarbakır</td>\n",
       "      <td>Other</td>\n",
       "      <td>IL</td>\n",
       "      <td>2</td>\n",
       "      <td>4.0</td>\n",
       "      <td>2.0</td>\n",
       "      <td>5.0</td>\n",
       "      <td>2</td>\n",
       "      <td>...</td>\n",
       "      <td>3.0</td>\n",
       "      <td>0</td>\n",
       "      <td>0</td>\n",
       "      <td>0</td>\n",
       "      <td>0</td>\n",
       "      <td>0</td>\n",
       "      <td>0</td>\n",
       "      <td>0</td>\n",
       "      <td>0</td>\n",
       "      <td>2055379.0</td>\n",
       "    </tr>\n",
       "    <tr>\n",
       "      <th>3</th>\n",
       "      <td>3</td>\n",
       "      <td>02/02/2012</td>\n",
       "      <td>Tokat</td>\n",
       "      <td>Other</td>\n",
       "      <td>IL</td>\n",
       "      <td>6</td>\n",
       "      <td>4.5</td>\n",
       "      <td>6.0</td>\n",
       "      <td>6.0</td>\n",
       "      <td>4</td>\n",
       "      <td>...</td>\n",
       "      <td>7.5</td>\n",
       "      <td>25</td>\n",
       "      <td>12</td>\n",
       "      <td>10</td>\n",
       "      <td>6</td>\n",
       "      <td>18</td>\n",
       "      <td>12</td>\n",
       "      <td>12</td>\n",
       "      <td>6</td>\n",
       "      <td>2675511.0</td>\n",
       "    </tr>\n",
       "    <tr>\n",
       "      <th>4</th>\n",
       "      <td>4</td>\n",
       "      <td>05/09/2009</td>\n",
       "      <td>Gaziantep</td>\n",
       "      <td>Other</td>\n",
       "      <td>IL</td>\n",
       "      <td>3</td>\n",
       "      <td>4.0</td>\n",
       "      <td>3.0</td>\n",
       "      <td>4.0</td>\n",
       "      <td>2</td>\n",
       "      <td>...</td>\n",
       "      <td>3.0</td>\n",
       "      <td>5</td>\n",
       "      <td>1</td>\n",
       "      <td>3</td>\n",
       "      <td>2</td>\n",
       "      <td>3</td>\n",
       "      <td>4</td>\n",
       "      <td>3</td>\n",
       "      <td>3</td>\n",
       "      <td>4316715.0</td>\n",
       "    </tr>\n",
       "  </tbody>\n",
       "</table>\n",
       "<p>5 rows × 43 columns</p>\n",
       "</div>"
      ],
      "text/plain": [
       "   Id   Open Date        City  City Group Type  P1   P2   P3   P4  P5  ...   \n",
       "0   0  07/17/1999    İstanbul  Big Cities   IL   4  5.0  4.0  4.0   2  ...  \\\n",
       "1   1  02/14/2008      Ankara  Big Cities   FC   4  5.0  4.0  4.0   1  ...   \n",
       "2   2  03/09/2013  Diyarbakır       Other   IL   2  4.0  2.0  5.0   2  ...   \n",
       "3   3  02/02/2012       Tokat       Other   IL   6  4.5  6.0  6.0   4  ...   \n",
       "4   4  05/09/2009   Gaziantep       Other   IL   3  4.0  3.0  4.0   2  ...   \n",
       "\n",
       "   P29  P30  P31  P32  P33  P34  P35  P36  P37    revenue  \n",
       "0  3.0    5    3    4    5    5    4    3    4  5653753.0  \n",
       "1  3.0    0    0    0    0    0    0    0    0  6923131.0  \n",
       "2  3.0    0    0    0    0    0    0    0    0  2055379.0  \n",
       "3  7.5   25   12   10    6   18   12   12    6  2675511.0  \n",
       "4  3.0    5    1    3    2    3    4    3    3  4316715.0  \n",
       "\n",
       "[5 rows x 43 columns]"
      ]
     },
     "execution_count": 52,
     "metadata": {},
     "output_type": "execute_result"
    }
   ],
   "source": [
    "df = pd.read_csv(\"../data/train.csv.zip\")\n",
    "df.head()"
   ]
  },
  {
   "cell_type": "code",
   "execution_count": 53,
   "id": "f7180c17",
   "metadata": {
    "execution": {
     "iopub.execute_input": "2022-10-02T18:17:58.236568Z",
     "iopub.status.busy": "2022-10-02T18:17:58.235701Z",
     "iopub.status.idle": "2022-10-02T18:17:58.262030Z",
     "shell.execute_reply": "2022-10-02T18:17:58.260075Z"
    },
    "papermill": {
     "duration": 0.045005,
     "end_time": "2022-10-02T18:17:58.264626",
     "exception": false,
     "start_time": "2022-10-02T18:17:58.219621",
     "status": "completed"
    },
    "tags": []
   },
   "outputs": [
    {
     "name": "stdout",
     "output_type": "stream",
     "text": [
      "<class 'pandas.core.frame.DataFrame'>\n",
      "RangeIndex: 137 entries, 0 to 136\n",
      "Data columns (total 43 columns):\n",
      " #   Column      Non-Null Count  Dtype  \n",
      "---  ------      --------------  -----  \n",
      " 0   Id          137 non-null    int64  \n",
      " 1   Open Date   137 non-null    object \n",
      " 2   City        137 non-null    object \n",
      " 3   City Group  137 non-null    object \n",
      " 4   Type        137 non-null    object \n",
      " 5   P1          137 non-null    int64  \n",
      " 6   P2          137 non-null    float64\n",
      " 7   P3          137 non-null    float64\n",
      " 8   P4          137 non-null    float64\n",
      " 9   P5          137 non-null    int64  \n",
      " 10  P6          137 non-null    int64  \n",
      " 11  P7          137 non-null    int64  \n",
      " 12  P8          137 non-null    int64  \n",
      " 13  P9          137 non-null    int64  \n",
      " 14  P10         137 non-null    int64  \n",
      " 15  P11         137 non-null    int64  \n",
      " 16  P12         137 non-null    int64  \n",
      " 17  P13         137 non-null    float64\n",
      " 18  P14         137 non-null    int64  \n",
      " 19  P15         137 non-null    int64  \n",
      " 20  P16         137 non-null    int64  \n",
      " 21  P17         137 non-null    int64  \n",
      " 22  P18         137 non-null    int64  \n",
      " 23  P19         137 non-null    int64  \n",
      " 24  P20         137 non-null    int64  \n",
      " 25  P21         137 non-null    int64  \n",
      " 26  P22         137 non-null    int64  \n",
      " 27  P23         137 non-null    int64  \n",
      " 28  P24         137 non-null    int64  \n",
      " 29  P25         137 non-null    int64  \n",
      " 30  P26         137 non-null    float64\n",
      " 31  P27         137 non-null    float64\n",
      " 32  P28         137 non-null    float64\n",
      " 33  P29         137 non-null    float64\n",
      " 34  P30         137 non-null    int64  \n",
      " 35  P31         137 non-null    int64  \n",
      " 36  P32         137 non-null    int64  \n",
      " 37  P33         137 non-null    int64  \n",
      " 38  P34         137 non-null    int64  \n",
      " 39  P35         137 non-null    int64  \n",
      " 40  P36         137 non-null    int64  \n",
      " 41  P37         137 non-null    int64  \n",
      " 42  revenue     137 non-null    float64\n",
      "dtypes: float64(9), int64(30), object(4)\n",
      "memory usage: 46.1+ KB\n"
     ]
    }
   ],
   "source": [
    "df.info()"
   ]
  },
  {
   "cell_type": "code",
   "execution_count": 54,
   "id": "df88e0dd",
   "metadata": {
    "execution": {
     "iopub.execute_input": "2022-10-02T18:17:58.355531Z",
     "iopub.status.busy": "2022-10-02T18:17:58.354835Z",
     "iopub.status.idle": "2022-10-02T18:17:58.359665Z",
     "shell.execute_reply": "2022-10-02T18:17:58.358590Z"
    },
    "papermill": {
     "duration": 0.023063,
     "end_time": "2022-10-02T18:17:58.361918",
     "exception": false,
     "start_time": "2022-10-02T18:17:58.338855",
     "status": "completed"
    },
    "tags": []
   },
   "outputs": [],
   "source": [
    "df_train = df.copy()"
   ]
  },
  {
   "cell_type": "markdown",
   "id": "0c404591",
   "metadata": {
    "papermill": {
     "duration": 0.014712,
     "end_time": "2022-10-02T18:17:58.391629",
     "exception": false,
     "start_time": "2022-10-02T18:17:58.376917",
     "status": "completed"
    },
    "tags": []
   },
   "source": [
    "<span style=\"font-size:18px;\"> we broke **revenue** feature to categorical values to get insights </span>"
   ]
  },
  {
   "cell_type": "code",
   "execution_count": 55,
   "id": "1bb797b2",
   "metadata": {
    "execution": {
     "iopub.execute_input": "2022-10-02T18:17:58.423502Z",
     "iopub.status.busy": "2022-10-02T18:17:58.422694Z",
     "iopub.status.idle": "2022-10-02T18:17:58.690390Z",
     "shell.execute_reply": "2022-10-02T18:17:58.689314Z"
    },
    "papermill": {
     "duration": 0.286182,
     "end_time": "2022-10-02T18:17:58.692727",
     "exception": false,
     "start_time": "2022-10-02T18:17:58.406545",
     "status": "completed"
    },
    "tags": []
   },
   "outputs": [
    {
     "data": {
      "text/plain": [
       "<Axes: >"
      ]
     },
     "execution_count": 55,
     "metadata": {},
     "output_type": "execute_result"
    },
    {
     "data": {
      "image/png": "[encoded data removed]",
      "text/plain": [
       "<Figure size 640x480 with 1 Axes>"
      ]
     },
     "metadata": {},
     "output_type": "display_data"
    }
   ],
   "source": [
    "df_train[\"revenue\"].hist()"
   ]
  },
  {
   "cell_type": "code",
   "execution_count": 56,
   "id": "c4b4c6db",
   "metadata": {
    "execution": {
     "iopub.execute_input": "2022-10-02T18:17:58.724697Z",
     "iopub.status.busy": "2022-10-02T18:17:58.724264Z",
     "iopub.status.idle": "2022-10-02T18:17:58.752208Z",
     "shell.execute_reply": "2022-10-02T18:17:58.750997Z"
    },
    "papermill": {
     "duration": 0.046495,
     "end_time": "2022-10-02T18:17:58.754491",
     "exception": false,
     "start_time": "2022-10-02T18:17:58.707996",
     "status": "completed"
    },
    "tags": []
   },
   "outputs": [
    {
     "data": {
      "text/html": [
       "<div>\n",
       "<style scoped>\n",
       "    .dataframe tbody tr th:only-of-type {\n",
       "        vertical-align: middle;\n",
       "    }\n",
       "\n",
       "    .dataframe tbody tr th {\n",
       "        vertical-align: top;\n",
       "    }\n",
       "\n",
       "    .dataframe thead th {\n",
       "        text-align: right;\n",
       "    }\n",
       "</style>\n",
       "<table border=\"1\" class=\"dataframe\">\n",
       "  <thead>\n",
       "    <tr style=\"text-align: right;\">\n",
       "      <th></th>\n",
       "      <th>Id</th>\n",
       "      <th>Open Date</th>\n",
       "      <th>City</th>\n",
       "      <th>City Group</th>\n",
       "      <th>Type</th>\n",
       "      <th>P1</th>\n",
       "      <th>P2</th>\n",
       "      <th>P3</th>\n",
       "      <th>P4</th>\n",
       "      <th>P5</th>\n",
       "      <th>...</th>\n",
       "      <th>P30</th>\n",
       "      <th>P31</th>\n",
       "      <th>P32</th>\n",
       "      <th>P33</th>\n",
       "      <th>P34</th>\n",
       "      <th>P35</th>\n",
       "      <th>P36</th>\n",
       "      <th>P37</th>\n",
       "      <th>revenue</th>\n",
       "      <th>cat_revenue</th>\n",
       "    </tr>\n",
       "  </thead>\n",
       "  <tbody>\n",
       "    <tr>\n",
       "      <th>0</th>\n",
       "      <td>0</td>\n",
       "      <td>07/17/1999</td>\n",
       "      <td>İstanbul</td>\n",
       "      <td>Big Cities</td>\n",
       "      <td>IL</td>\n",
       "      <td>4</td>\n",
       "      <td>5.0</td>\n",
       "      <td>4.0</td>\n",
       "      <td>4.0</td>\n",
       "      <td>2</td>\n",
       "      <td>...</td>\n",
       "      <td>5</td>\n",
       "      <td>3</td>\n",
       "      <td>4</td>\n",
       "      <td>5</td>\n",
       "      <td>5</td>\n",
       "      <td>4</td>\n",
       "      <td>3</td>\n",
       "      <td>4</td>\n",
       "      <td>5653753.0</td>\n",
       "      <td>mid</td>\n",
       "    </tr>\n",
       "    <tr>\n",
       "      <th>1</th>\n",
       "      <td>1</td>\n",
       "      <td>02/14/2008</td>\n",
       "      <td>Ankara</td>\n",
       "      <td>Big Cities</td>\n",
       "      <td>FC</td>\n",
       "      <td>4</td>\n",
       "      <td>5.0</td>\n",
       "      <td>4.0</td>\n",
       "      <td>4.0</td>\n",
       "      <td>1</td>\n",
       "      <td>...</td>\n",
       "      <td>0</td>\n",
       "      <td>0</td>\n",
       "      <td>0</td>\n",
       "      <td>0</td>\n",
       "      <td>0</td>\n",
       "      <td>0</td>\n",
       "      <td>0</td>\n",
       "      <td>0</td>\n",
       "      <td>6923131.0</td>\n",
       "      <td>mid</td>\n",
       "    </tr>\n",
       "    <tr>\n",
       "      <th>2</th>\n",
       "      <td>2</td>\n",
       "      <td>03/09/2013</td>\n",
       "      <td>Diyarbakır</td>\n",
       "      <td>Other</td>\n",
       "      <td>IL</td>\n",
       "      <td>2</td>\n",
       "      <td>4.0</td>\n",
       "      <td>2.0</td>\n",
       "      <td>5.0</td>\n",
       "      <td>2</td>\n",
       "      <td>...</td>\n",
       "      <td>0</td>\n",
       "      <td>0</td>\n",
       "      <td>0</td>\n",
       "      <td>0</td>\n",
       "      <td>0</td>\n",
       "      <td>0</td>\n",
       "      <td>0</td>\n",
       "      <td>0</td>\n",
       "      <td>2055379.0</td>\n",
       "      <td>low</td>\n",
       "    </tr>\n",
       "    <tr>\n",
       "      <th>3</th>\n",
       "      <td>3</td>\n",
       "      <td>02/02/2012</td>\n",
       "      <td>Tokat</td>\n",
       "      <td>Other</td>\n",
       "      <td>IL</td>\n",
       "      <td>6</td>\n",
       "      <td>4.5</td>\n",
       "      <td>6.0</td>\n",
       "      <td>6.0</td>\n",
       "      <td>4</td>\n",
       "      <td>...</td>\n",
       "      <td>25</td>\n",
       "      <td>12</td>\n",
       "      <td>10</td>\n",
       "      <td>6</td>\n",
       "      <td>18</td>\n",
       "      <td>12</td>\n",
       "      <td>12</td>\n",
       "      <td>6</td>\n",
       "      <td>2675511.0</td>\n",
       "      <td>low</td>\n",
       "    </tr>\n",
       "    <tr>\n",
       "      <th>4</th>\n",
       "      <td>4</td>\n",
       "      <td>05/09/2009</td>\n",
       "      <td>Gaziantep</td>\n",
       "      <td>Other</td>\n",
       "      <td>IL</td>\n",
       "      <td>3</td>\n",
       "      <td>4.0</td>\n",
       "      <td>3.0</td>\n",
       "      <td>4.0</td>\n",
       "      <td>2</td>\n",
       "      <td>...</td>\n",
       "      <td>5</td>\n",
       "      <td>1</td>\n",
       "      <td>3</td>\n",
       "      <td>2</td>\n",
       "      <td>3</td>\n",
       "      <td>4</td>\n",
       "      <td>3</td>\n",
       "      <td>3</td>\n",
       "      <td>4316715.0</td>\n",
       "      <td>low</td>\n",
       "    </tr>\n",
       "  </tbody>\n",
       "</table>\n",
       "<p>5 rows × 44 columns</p>\n",
       "</div>"
      ],
      "text/plain": [
       "   Id   Open Date        City  City Group Type  P1   P2   P3   P4  P5  ...   \n",
       "0   0  07/17/1999    İstanbul  Big Cities   IL   4  5.0  4.0  4.0   2  ...  \\\n",
       "1   1  02/14/2008      Ankara  Big Cities   FC   4  5.0  4.0  4.0   1  ...   \n",
       "2   2  03/09/2013  Diyarbakır       Other   IL   2  4.0  2.0  5.0   2  ...   \n",
       "3   3  02/02/2012       Tokat       Other   IL   6  4.5  6.0  6.0   4  ...   \n",
       "4   4  05/09/2009   Gaziantep       Other   IL   3  4.0  3.0  4.0   2  ...   \n",
       "\n",
       "   P30  P31  P32  P33  P34  P35  P36  P37    revenue  cat_revenue  \n",
       "0    5    3    4    5    5    4    3    4  5653753.0          mid  \n",
       "1    0    0    0    0    0    0    0    0  6923131.0          mid  \n",
       "2    0    0    0    0    0    0    0    0  2055379.0          low  \n",
       "3   25   12   10    6   18   12   12    6  2675511.0          low  \n",
       "4    5    1    3    2    3    4    3    3  4316715.0          low  \n",
       "\n",
       "[5 rows x 44 columns]"
      ]
     },
     "execution_count": 56,
     "metadata": {},
     "output_type": "execute_result"
    }
   ],
   "source": [
    "df_train[\"cat_revenue\"] = pd.cut(df_train[\"revenue\"],\n",
    "                               bins=[0, 5000000, 10000000, np.inf],\n",
    "                               labels=[\"low\", \"mid\", \"high\"])\n",
    "df_train.head()"
   ]
  },
  {
   "cell_type": "code",
   "execution_count": 57,
   "id": "8eda77b0",
   "metadata": {
    "execution": {
     "iopub.execute_input": "2022-10-02T18:17:58.819321Z",
     "iopub.status.busy": "2022-10-02T18:17:58.818934Z",
     "iopub.status.idle": "2022-10-02T18:17:58.826050Z",
     "shell.execute_reply": "2022-10-02T18:17:58.824986Z"
    },
    "papermill": {
     "duration": 0.02667,
     "end_time": "2022-10-02T18:17:58.828428",
     "exception": false,
     "start_time": "2022-10-02T18:17:58.801758",
     "status": "completed"
    },
    "tags": []
   },
   "outputs": [],
   "source": [
    "def transform_date(dataframe):\n",
    "    today = date.today()\n",
    "    days = []\n",
    "    for value in dataframe[\"Open Date\"].values:\n",
    "        casting_date = datetime.strptime(value, \"%m/%d/%Y\").date()\n",
    "        delta = today - casting_date\n",
    "        day = delta.days\n",
    "        days.append(day)\n",
    "\n",
    "    dataframe[\"Open Date\"] = pd.Series(days, name=\"Open Days\")\n",
    "    return dataframe"
   ]
  },
  {
   "cell_type": "code",
   "execution_count": 58,
   "id": "2e9850ee",
   "metadata": {
    "execution": {
     "iopub.execute_input": "2022-10-02T18:17:58.861902Z",
     "iopub.status.busy": "2022-10-02T18:17:58.861493Z",
     "iopub.status.idle": "2022-10-02T18:17:58.888738Z",
     "shell.execute_reply": "2022-10-02T18:17:58.887632Z"
    },
    "papermill": {
     "duration": 0.046225,
     "end_time": "2022-10-02T18:17:58.890916",
     "exception": false,
     "start_time": "2022-10-02T18:17:58.844691",
     "status": "completed"
    },
    "tags": []
   },
   "outputs": [
    {
     "data": {
      "text/html": [
       "<div>\n",
       "<style scoped>\n",
       "    .dataframe tbody tr th:only-of-type {\n",
       "        vertical-align: middle;\n",
       "    }\n",
       "\n",
       "    .dataframe tbody tr th {\n",
       "        vertical-align: top;\n",
       "    }\n",
       "\n",
       "    .dataframe thead th {\n",
       "        text-align: right;\n",
       "    }\n",
       "</style>\n",
       "<table border=\"1\" class=\"dataframe\">\n",
       "  <thead>\n",
       "    <tr style=\"text-align: right;\">\n",
       "      <th></th>\n",
       "      <th>Id</th>\n",
       "      <th>Open Date</th>\n",
       "      <th>City</th>\n",
       "      <th>City Group</th>\n",
       "      <th>Type</th>\n",
       "      <th>P1</th>\n",
       "      <th>P2</th>\n",
       "      <th>P3</th>\n",
       "      <th>P4</th>\n",
       "      <th>P5</th>\n",
       "      <th>...</th>\n",
       "      <th>P30</th>\n",
       "      <th>P31</th>\n",
       "      <th>P32</th>\n",
       "      <th>P33</th>\n",
       "      <th>P34</th>\n",
       "      <th>P35</th>\n",
       "      <th>P36</th>\n",
       "      <th>P37</th>\n",
       "      <th>revenue</th>\n",
       "      <th>cat_revenue</th>\n",
       "    </tr>\n",
       "  </thead>\n",
       "  <tbody>\n",
       "    <tr>\n",
       "      <th>0</th>\n",
       "      <td>0</td>\n",
       "      <td>8715</td>\n",
       "      <td>İstanbul</td>\n",
       "      <td>Big Cities</td>\n",
       "      <td>IL</td>\n",
       "      <td>4</td>\n",
       "      <td>5.0</td>\n",
       "      <td>4.0</td>\n",
       "      <td>4.0</td>\n",
       "      <td>2</td>\n",
       "      <td>...</td>\n",
       "      <td>5</td>\n",
       "      <td>3</td>\n",
       "      <td>4</td>\n",
       "      <td>5</td>\n",
       "      <td>5</td>\n",
       "      <td>4</td>\n",
       "      <td>3</td>\n",
       "      <td>4</td>\n",
       "      <td>5653753.0</td>\n",
       "      <td>mid</td>\n",
       "    </tr>\n",
       "    <tr>\n",
       "      <th>1</th>\n",
       "      <td>1</td>\n",
       "      <td>5581</td>\n",
       "      <td>Ankara</td>\n",
       "      <td>Big Cities</td>\n",
       "      <td>FC</td>\n",
       "      <td>4</td>\n",
       "      <td>5.0</td>\n",
       "      <td>4.0</td>\n",
       "      <td>4.0</td>\n",
       "      <td>1</td>\n",
       "      <td>...</td>\n",
       "      <td>0</td>\n",
       "      <td>0</td>\n",
       "      <td>0</td>\n",
       "      <td>0</td>\n",
       "      <td>0</td>\n",
       "      <td>0</td>\n",
       "      <td>0</td>\n",
       "      <td>0</td>\n",
       "      <td>6923131.0</td>\n",
       "      <td>mid</td>\n",
       "    </tr>\n",
       "    <tr>\n",
       "      <th>2</th>\n",
       "      <td>2</td>\n",
       "      <td>3731</td>\n",
       "      <td>Diyarbakır</td>\n",
       "      <td>Other</td>\n",
       "      <td>IL</td>\n",
       "      <td>2</td>\n",
       "      <td>4.0</td>\n",
       "      <td>2.0</td>\n",
       "      <td>5.0</td>\n",
       "      <td>2</td>\n",
       "      <td>...</td>\n",
       "      <td>0</td>\n",
       "      <td>0</td>\n",
       "      <td>0</td>\n",
       "      <td>0</td>\n",
       "      <td>0</td>\n",
       "      <td>0</td>\n",
       "      <td>0</td>\n",
       "      <td>0</td>\n",
       "      <td>2055379.0</td>\n",
       "      <td>low</td>\n",
       "    </tr>\n",
       "    <tr>\n",
       "      <th>3</th>\n",
       "      <td>3</td>\n",
       "      <td>4132</td>\n",
       "      <td>Tokat</td>\n",
       "      <td>Other</td>\n",
       "      <td>IL</td>\n",
       "      <td>6</td>\n",
       "      <td>4.5</td>\n",
       "      <td>6.0</td>\n",
       "      <td>6.0</td>\n",
       "      <td>4</td>\n",
       "      <td>...</td>\n",
       "      <td>25</td>\n",
       "      <td>12</td>\n",
       "      <td>10</td>\n",
       "      <td>6</td>\n",
       "      <td>18</td>\n",
       "      <td>12</td>\n",
       "      <td>12</td>\n",
       "      <td>6</td>\n",
       "      <td>2675511.0</td>\n",
       "      <td>low</td>\n",
       "    </tr>\n",
       "    <tr>\n",
       "      <th>4</th>\n",
       "      <td>4</td>\n",
       "      <td>5131</td>\n",
       "      <td>Gaziantep</td>\n",
       "      <td>Other</td>\n",
       "      <td>IL</td>\n",
       "      <td>3</td>\n",
       "      <td>4.0</td>\n",
       "      <td>3.0</td>\n",
       "      <td>4.0</td>\n",
       "      <td>2</td>\n",
       "      <td>...</td>\n",
       "      <td>5</td>\n",
       "      <td>1</td>\n",
       "      <td>3</td>\n",
       "      <td>2</td>\n",
       "      <td>3</td>\n",
       "      <td>4</td>\n",
       "      <td>3</td>\n",
       "      <td>3</td>\n",
       "      <td>4316715.0</td>\n",
       "      <td>low</td>\n",
       "    </tr>\n",
       "  </tbody>\n",
       "</table>\n",
       "<p>5 rows × 44 columns</p>\n",
       "</div>"
      ],
      "text/plain": [
       "   Id  Open Date        City  City Group Type  P1   P2   P3   P4  P5  ...   \n",
       "0   0       8715    İstanbul  Big Cities   IL   4  5.0  4.0  4.0   2  ...  \\\n",
       "1   1       5581      Ankara  Big Cities   FC   4  5.0  4.0  4.0   1  ...   \n",
       "2   2       3731  Diyarbakır       Other   IL   2  4.0  2.0  5.0   2  ...   \n",
       "3   3       4132       Tokat       Other   IL   6  4.5  6.0  6.0   4  ...   \n",
       "4   4       5131   Gaziantep       Other   IL   3  4.0  3.0  4.0   2  ...   \n",
       "\n",
       "   P30  P31  P32  P33  P34  P35  P36  P37    revenue  cat_revenue  \n",
       "0    5    3    4    5    5    4    3    4  5653753.0          mid  \n",
       "1    0    0    0    0    0    0    0    0  6923131.0          mid  \n",
       "2    0    0    0    0    0    0    0    0  2055379.0          low  \n",
       "3   25   12   10    6   18   12   12    6  2675511.0          low  \n",
       "4    5    1    3    2    3    4    3    3  4316715.0          low  \n",
       "\n",
       "[5 rows x 44 columns]"
      ]
     },
     "execution_count": 58,
     "metadata": {},
     "output_type": "execute_result"
    }
   ],
   "source": [
    "df_train = transform_date(df_train)\n",
    "df_train.head()\n"
   ]
  },
  {
   "cell_type": "code",
   "execution_count": 37,
   "id": "379e445b",
   "metadata": {
    "execution": {
     "iopub.execute_input": "2022-10-02T18:17:58.925099Z",
     "iopub.status.busy": "2022-10-02T18:17:58.923965Z",
     "iopub.status.idle": "2022-10-02T18:17:59.144487Z",
     "shell.execute_reply": "2022-10-02T18:17:59.143711Z"
    },
    "papermill": {
     "duration": 0.239862,
     "end_time": "2022-10-02T18:17:59.146744",
     "exception": false,
     "start_time": "2022-10-02T18:17:58.906882",
     "status": "completed"
    },
    "tags": []
   },
   "outputs": [
    {
     "data": {
      "text/plain": [
       "<Axes: >"
      ]
     },
     "execution_count": 37,
     "metadata": {},
     "output_type": "execute_result"
    },
    {
     "data": {
      "image/png": "[encoded data removed]",
      "text/plain": [
       "<Figure size 640x480 with 1 Axes>"
      ]
     },
     "metadata": {},
     "output_type": "display_data"
    }
   ],
   "source": [
    "df_train[\"Open Date\"].hist()"
   ]
  },
  {
   "cell_type": "code",
   "execution_count": 48,
   "id": "5ca26eb3",
   "metadata": {
    "execution": {
     "iopub.execute_input": "2022-10-02T18:17:59.181495Z",
     "iopub.status.busy": "2022-10-02T18:17:59.180252Z",
     "iopub.status.idle": "2022-10-02T18:17:59.208012Z",
     "shell.execute_reply": "2022-10-02T18:17:59.207033Z"
    },
    "papermill": {
     "duration": 0.04749,
     "end_time": "2022-10-02T18:17:59.210359",
     "exception": false,
     "start_time": "2022-10-02T18:17:59.162869",
     "status": "completed"
    },
    "tags": []
   },
   "outputs": [
    {
     "data": {
      "text/plain": [
       "<Axes: >"
      ]
     },
     "execution_count": 48,
     "metadata": {},
     "output_type": "execute_result"
    },
    {
     "data": {
      "image/png": "[encoded data removed]",
      "text/plain": [
       "<Figure size 640x480 with 1 Axes>"
      ]
     },
     "metadata": {},
     "output_type": "display_data"
    }
   ],
   "source": [
    "df_train[\"cat_age\"] = pd.cut(df_train[\"Open Date\"],\n",
    "                           bins=[0, 4000, 7000, np.inf],\n",
    "                           labels=['new', \"mid\", \"old\"])\n",
    "df_train.head()\n",
    "df_train[\"cat_age\"].hist()"
   ]
  },
  {
   "cell_type": "markdown",
   "id": "9dbf4141",
   "metadata": {
    "papermill": {
     "duration": 0.016608,
     "end_time": "2022-10-02T18:17:59.244120",
     "exception": false,
     "start_time": "2022-10-02T18:17:59.227512",
     "status": "completed"
    },
    "tags": []
   },
   "source": [
    "<span style=\"font-size:18px;\"> using categorical features to visualization and get insights of data. </span>"
   ]
  },
  {
   "cell_type": "code",
   "execution_count": 39,
   "id": "f4387ef2",
   "metadata": {
    "execution": {
     "iopub.execute_input": "2022-10-02T18:17:59.278799Z",
     "iopub.status.busy": "2022-10-02T18:17:59.278402Z",
     "iopub.status.idle": "2022-10-02T18:17:59.292721Z",
     "shell.execute_reply": "2022-10-02T18:17:59.291788Z"
    },
    "papermill": {
     "duration": 0.034065,
     "end_time": "2022-10-02T18:17:59.294772",
     "exception": false,
     "start_time": "2022-10-02T18:17:59.260707",
     "status": "completed"
    },
    "tags": []
   },
   "outputs": [
    {
     "data": {
      "text/html": [
       "<div>\n",
       "<style scoped>\n",
       "    .dataframe tbody tr th:only-of-type {\n",
       "        vertical-align: middle;\n",
       "    }\n",
       "\n",
       "    .dataframe tbody tr th {\n",
       "        vertical-align: top;\n",
       "    }\n",
       "\n",
       "    .dataframe thead th {\n",
       "        text-align: right;\n",
       "    }\n",
       "</style>\n",
       "<table border=\"1\" class=\"dataframe\">\n",
       "  <thead>\n",
       "    <tr style=\"text-align: right;\">\n",
       "      <th></th>\n",
       "      <th>City</th>\n",
       "      <th>City Group</th>\n",
       "      <th>Type</th>\n",
       "      <th>cat_revenue</th>\n",
       "      <th>cat_age</th>\n",
       "    </tr>\n",
       "  </thead>\n",
       "  <tbody>\n",
       "    <tr>\n",
       "      <th>0</th>\n",
       "      <td>İstanbul</td>\n",
       "      <td>Big Cities</td>\n",
       "      <td>IL</td>\n",
       "      <td>mid</td>\n",
       "      <td>old</td>\n",
       "    </tr>\n",
       "    <tr>\n",
       "      <th>1</th>\n",
       "      <td>Ankara</td>\n",
       "      <td>Big Cities</td>\n",
       "      <td>FC</td>\n",
       "      <td>mid</td>\n",
       "      <td>mid</td>\n",
       "    </tr>\n",
       "    <tr>\n",
       "      <th>2</th>\n",
       "      <td>Diyarbakır</td>\n",
       "      <td>Other</td>\n",
       "      <td>IL</td>\n",
       "      <td>low</td>\n",
       "      <td>new</td>\n",
       "    </tr>\n",
       "    <tr>\n",
       "      <th>3</th>\n",
       "      <td>Tokat</td>\n",
       "      <td>Other</td>\n",
       "      <td>IL</td>\n",
       "      <td>low</td>\n",
       "      <td>mid</td>\n",
       "    </tr>\n",
       "    <tr>\n",
       "      <th>4</th>\n",
       "      <td>Gaziantep</td>\n",
       "      <td>Other</td>\n",
       "      <td>IL</td>\n",
       "      <td>low</td>\n",
       "      <td>mid</td>\n",
       "    </tr>\n",
       "  </tbody>\n",
       "</table>\n",
       "</div>"
      ],
      "text/plain": [
       "         City  City Group Type cat_revenue cat_age\n",
       "0    İstanbul  Big Cities   IL         mid     old\n",
       "1      Ankara  Big Cities   FC         mid     mid\n",
       "2  Diyarbakır       Other   IL         low     new\n",
       "3       Tokat       Other   IL         low     mid\n",
       "4   Gaziantep       Other   IL         low     mid"
      ]
     },
     "execution_count": 39,
     "metadata": {},
     "output_type": "execute_result"
    }
   ],
   "source": [
    "df_vis = df_train.select_dtypes(exclude=(\"int64\", \"float64\"))\n",
    "df_vis.head()"
   ]
  },
  {
   "cell_type": "code",
   "execution_count": 63,
   "id": "d1389a21",
   "metadata": {
    "execution": {
     "iopub.execute_input": "2022-10-02T18:17:59.363194Z",
     "iopub.status.busy": "2022-10-02T18:17:59.362640Z",
     "iopub.status.idle": "2022-10-02T18:17:59.513940Z",
     "shell.execute_reply": "2022-10-02T18:17:59.512456Z"
    },
    "papermill": {
     "duration": 0.173221,
     "end_time": "2022-10-02T18:17:59.517871",
     "exception": false,
     "start_time": "2022-10-02T18:17:59.344650",
     "status": "completed"
    },
    "tags": []
   },
   "outputs": [
    {
     "data": {
      "text/plain": [
       "<Axes: xlabel='City Group', ylabel='count'>"
      ]
     },
     "execution_count": 63,
     "metadata": {},
     "output_type": "execute_result"
    },
    {
     "data": {
      "image/png": "[encoded data removed]",
      "text/plain": [
       "<Figure size 640x480 with 1 Axes>"
      ]
     },
     "metadata": {},
     "output_type": "display_data"
    }
   ],
   "source": [
    "sns.countplot(data=df_vis, x=\"City Group\", palette=\"flare\")"
   ]
  },
  {
   "cell_type": "markdown",
   "id": "44b99c22",
   "metadata": {
    "papermill": {
     "duration": 0.016768,
     "end_time": "2022-10-02T18:17:59.555365",
     "exception": false,
     "start_time": "2022-10-02T18:17:59.538597",
     "status": "completed"
    },
    "tags": []
   },
   "source": [
    "**fig1**"
   ]
  },
  {
   "cell_type": "code",
   "execution_count": null,
   "id": "5b0fb9b6",
   "metadata": {
    "execution": {
     "iopub.execute_input": "2022-10-02T18:17:59.591385Z",
     "iopub.status.busy": "2022-10-02T18:17:59.590802Z",
     "iopub.status.idle": "2022-10-02T18:17:59.801011Z",
     "shell.execute_reply": "2022-10-02T18:17:59.799896Z"
    },
    "papermill": {
     "duration": 0.231443,
     "end_time": "2022-10-02T18:17:59.803761",
     "exception": false,
     "start_time": "2022-10-02T18:17:59.572318",
     "status": "completed"
    },
    "tags": []
   },
   "outputs": [
    {
     "data": {
      "text/plain": [
       "<Axes: xlabel='Type', ylabel='count'>"
      ]
     },
     "execution_count": 14,
     "metadata": {},
     "output_type": "execute_result"
    },
    {
     "data": {
      "image/png": "[encoded data removed]",
      "text/plain": [
       "<Figure size 640x480 with 1 Axes>"
      ]
     },
     "metadata": {},
     "output_type": "display_data"
    }
   ],
   "source": [
    "sns.countplot(data=df_vis, x=\"Type\", palette=\"flare\")"
   ]
  },
  {
   "cell_type": "markdown",
   "id": "5ef3ef39",
   "metadata": {
    "papermill": {
     "duration": 0.017087,
     "end_time": "2022-10-02T18:17:59.838269",
     "exception": false,
     "start_time": "2022-10-02T18:17:59.821182",
     "status": "completed"
    },
    "tags": []
   },
   "source": [
    "**fig2**"
   ]
  },
  {
   "cell_type": "code",
   "execution_count": null,
   "id": "21e0903c",
   "metadata": {
    "execution": {
     "iopub.execute_input": "2022-10-02T18:17:59.875273Z",
     "iopub.status.busy": "2022-10-02T18:17:59.874655Z",
     "iopub.status.idle": "2022-10-02T18:18:00.076520Z",
     "shell.execute_reply": "2022-10-02T18:18:00.075424Z"
    },
    "papermill": {
     "duration": 0.223086,
     "end_time": "2022-10-02T18:18:00.078830",
     "exception": false,
     "start_time": "2022-10-02T18:17:59.855744",
     "status": "completed"
    },
    "tags": []
   },
   "outputs": [
    {
     "data": {
      "text/plain": [
       "<Axes: xlabel='cat_revenue', ylabel='count'>"
      ]
     },
     "execution_count": 15,
     "metadata": {},
     "output_type": "execute_result"
    },
    {
     "data": {
      "image/png": "[encoded data removed]",
      "text/plain": [
       "<Figure size 640x480 with 1 Axes>"
      ]
     },
     "metadata": {},
     "output_type": "display_data"
    }
   ],
   "source": [
    "sns.countplot(data=df_vis, x=\"cat_revenue\", palette=\"flare\")"
   ]
  },
  {
   "cell_type": "markdown",
   "id": "d5219193",
   "metadata": {
    "papermill": {
     "duration": 0.017358,
     "end_time": "2022-10-02T18:18:00.114749",
     "exception": false,
     "start_time": "2022-10-02T18:18:00.097391",
     "status": "completed"
    },
    "tags": []
   },
   "source": [
    "**fig3**"
   ]
  },
  {
   "cell_type": "code",
   "execution_count": null,
   "id": "c27df77b",
   "metadata": {
    "execution": {
     "iopub.execute_input": "2022-10-02T18:18:00.152300Z",
     "iopub.status.busy": "2022-10-02T18:18:00.151690Z",
     "iopub.status.idle": "2022-10-02T18:18:00.365063Z",
     "shell.execute_reply": "2022-10-02T18:18:00.363961Z"
    },
    "papermill": {
     "duration": 0.235027,
     "end_time": "2022-10-02T18:18:00.367397",
     "exception": false,
     "start_time": "2022-10-02T18:18:00.132370",
     "status": "completed"
    },
    "tags": []
   },
   "outputs": [
    {
     "data": {
      "text/plain": [
       "<Axes: xlabel='cat_age', ylabel='count'>"
      ]
     },
     "execution_count": 16,
     "metadata": {},
     "output_type": "execute_result"
    },
    {
     "data": {
      "image/png": "[encoded data removed]",
      "text/plain": [
       "<Figure size 640x480 with 1 Axes>"
      ]
     },
     "metadata": {},
     "output_type": "display_data"
    }
   ],
   "source": [
    "sns.countplot(data=df_vis, x=\"cat_age\", palette=\"flare\")"
   ]
  },
  {
   "cell_type": "markdown",
   "id": "e815293b",
   "metadata": {
    "papermill": {
     "duration": 0.017517,
     "end_time": "2022-10-02T18:18:00.403182",
     "exception": false,
     "start_time": "2022-10-02T18:18:00.385665",
     "status": "completed"
    },
    "tags": []
   },
   "source": [
    "**fig4**"
   ]
  },
  {
   "cell_type": "markdown",
   "id": "9fb8e013",
   "metadata": {
    "papermill": {
     "duration": 0.017457,
     "end_time": "2022-10-02T18:18:00.438428",
     "exception": false,
     "start_time": "2022-10-02T18:18:00.420971",
     "status": "completed"
    },
    "tags": []
   },
   "source": [
    "<span style=\"font-size:18px;\"> now we try to **analys** the charts. </span>"
   ]
  },
  {
   "cell_type": "code",
   "execution_count": null,
   "id": "699db485",
   "metadata": {
    "execution": {
     "iopub.execute_input": "2022-10-02T18:18:00.476602Z",
     "iopub.status.busy": "2022-10-02T18:18:00.475854Z",
     "iopub.status.idle": "2022-10-02T18:18:01.312292Z",
     "shell.execute_reply": "2022-10-02T18:18:01.311112Z"
    },
    "papermill": {
     "duration": 0.858272,
     "end_time": "2022-10-02T18:18:01.314622",
     "exception": false,
     "start_time": "2022-10-02T18:18:00.456350",
     "status": "completed"
    },
    "tags": []
   },
   "outputs": [
    {
     "data": {
      "text/plain": [
       "<seaborn.axisgrid.FacetGrid at 0x7fd7917f64c0>"
      ]
     },
     "execution_count": 17,
     "metadata": {},
     "output_type": "execute_result"
    },
    {
     "data": {
      "image/png": "[encoded data removed]",
      "text/plain": [
       "<Figure size 1596.61x500 with 3 Axes>"
      ]
     },
     "metadata": {},
     "output_type": "display_data"
    }
   ],
   "source": [
    "sns.catplot(data=df_vis, x=\"City Group\", hue=\"cat_revenue\", col=\"Type\", kind=\"count\", palette=\"flare\")"
   ]
  },
  {
   "attachments": {},
   "cell_type": "markdown",
   "id": "274508c5",
   "metadata": {
    "papermill": {
     "duration": 0.018196,
     "end_time": "2022-10-02T18:18:01.351528",
     "exception": false,
     "start_time": "2022-10-02T18:18:01.333332",
     "status": "completed"
    },
    "tags": []
   },
   "source": [
    "**results:**\n",
    "\n"
   ]
  },
  {
   "attachments": {},
   "cell_type": "markdown",
   "id": "27810547",
   "metadata": {},
   "source": [
    "* restaurants with high revenue are just in big cities."
   ]
  },
  {
   "attachments": {},
   "cell_type": "markdown",
   "id": "df33f3a2",
   "metadata": {},
   "source": [
    "* DT restaurants are not good at all."
   ]
  },
  {
   "cell_type": "code",
   "execution_count": null,
   "id": "e0e7b7cd",
   "metadata": {
    "execution": {
     "iopub.execute_input": "2022-10-02T18:18:01.390954Z",
     "iopub.status.busy": "2022-10-02T18:18:01.390242Z",
     "iopub.status.idle": "2022-10-02T18:18:02.248895Z",
     "shell.execute_reply": "2022-10-02T18:18:02.247696Z"
    },
    "papermill": {
     "duration": 0.88127,
     "end_time": "2022-10-02T18:18:02.251316",
     "exception": false,
     "start_time": "2022-10-02T18:18:01.370046",
     "status": "completed"
    },
    "tags": []
   },
   "outputs": [
    {
     "data": {
      "text/plain": [
       "<seaborn.axisgrid.FacetGrid at 0x7fd790bcee20>"
      ]
     },
     "execution_count": 23,
     "metadata": {},
     "output_type": "execute_result"
    },
    {
     "data": {
      "image/png": "[encoded data removed]",
      "text/plain": [
       "<Figure size 1596.61x500 with 3 Axes>"
      ]
     },
     "metadata": {},
     "output_type": "display_data"
    }
   ],
   "source": [
    "sns.catplot(data=df_vis, x=\"City Group\", hue=\"cat_revenue\", col=\"cat_age\", kind=\"count\", palette=\"flare\")"
   ]
  },
  {
   "attachments": {},
   "cell_type": "markdown",
   "id": "05694cba",
   "metadata": {
    "papermill": {
     "duration": 0.018823,
     "end_time": "2022-10-02T18:18:02.294102",
     "exception": false,
     "start_time": "2022-10-02T18:18:02.275279",
     "status": "completed"
    },
    "tags": []
   },
   "source": [
    "**results:** "
   ]
  },
  {
   "attachments": {},
   "cell_type": "markdown",
   "id": "a0858be5",
   "metadata": {},
   "source": [
    "* most of restaurants with high revenue are old and in big cities."
   ]
  },
  {
   "attachments": {},
   "cell_type": "markdown",
   "id": "ecbe8235",
   "metadata": {},
   "source": [
    "* we could say number of restaurants with mid revenue in mid age and young age, almost equal. maybe for new technologies."
   ]
  },
  {
   "attachments": {},
   "cell_type": "markdown",
   "id": "eb30f68b",
   "metadata": {},
   "source": [
    "* number of restaurants with mid revenue in mid age and young age, almost equal. maybe for new technologies."
   ]
  },
  {
   "cell_type": "markdown",
   "id": "61d98ca2",
   "metadata": {},
   "source": [
    "* number of new restaurants in big cities is low against other cities. maybe for High construction costs in big cities."
   ]
  },
  {
   "cell_type": "code",
   "execution_count": null,
   "id": "cd47b078",
   "metadata": {
    "execution": {
     "iopub.execute_input": "2022-10-02T18:18:02.334593Z",
     "iopub.status.busy": "2022-10-02T18:18:02.333928Z",
     "iopub.status.idle": "2022-10-02T18:18:03.015157Z",
     "shell.execute_reply": "2022-10-02T18:18:03.013983Z"
    },
    "papermill": {
     "duration": 0.704582,
     "end_time": "2022-10-02T18:18:03.017767",
     "exception": false,
     "start_time": "2022-10-02T18:18:02.313185",
     "status": "completed"
    },
    "tags": []
   },
   "outputs": [
    {
     "data": {
      "text/plain": [
       "<seaborn.axisgrid.FacetGrid at 0x7fd7912918e0>"
      ]
     },
     "execution_count": 19,
     "metadata": {},
     "output_type": "execute_result"
    },
    {
     "data": {
      "image/png": "[encoded data removed]",
      "text/plain": [
       "<Figure size 1096.61x500 with 2 Axes>"
      ]
     },
     "metadata": {},
     "output_type": "display_data"
    }
   ],
   "source": [
    "sns.catplot(data=df_vis, x=\"Type\", hue=\"cat_revenue\", col=\"City Group\", kind=\"count\", palette=\"flare\")"
   ]
  },
  {
   "attachments": {},
   "cell_type": "markdown",
   "id": "3f5c8ec0",
   "metadata": {
    "papermill": {
     "duration": 0.019778,
     "end_time": "2022-10-02T18:18:03.058077",
     "exception": false,
     "start_time": "2022-10-02T18:18:03.038299",
     "status": "completed"
    },
    "tags": []
   },
   "source": [
    "**results:**\n",
    "\n",
    "* total number of FC restaurant is greater than other types of restaurants.\n",
    "\n",
    "* in both city groups, FC restaurant have more revenue.\n",
    "\n",
    "* most of restaurants in other city group, have a low revenue. maybe for little pupulation."
   ]
  },
  {
   "cell_type": "code",
   "execution_count": null,
   "id": "89a304c9",
   "metadata": {
    "execution": {
     "iopub.execute_input": "2022-10-02T18:18:03.099570Z",
     "iopub.status.busy": "2022-10-02T18:18:03.098887Z",
     "iopub.status.idle": "2022-10-02T18:18:03.765163Z",
     "shell.execute_reply": "2022-10-02T18:18:03.764166Z"
    },
    "papermill": {
     "duration": 0.689991,
     "end_time": "2022-10-02T18:18:03.767606",
     "exception": false,
     "start_time": "2022-10-02T18:18:03.077615",
     "status": "completed"
    },
    "tags": []
   },
   "outputs": [
    {
     "data": {
      "text/plain": [
       "<seaborn.axisgrid.FacetGrid at 0x7fd79116ac40>"
      ]
     },
     "execution_count": 20,
     "metadata": {},
     "output_type": "execute_result"
    },
    {
     "data": {
      "image/png": "[encoded data removed]",
      "text/plain": [
       "<Figure size 1078.62x500 with 2 Axes>"
      ]
     },
     "metadata": {},
     "output_type": "display_data"
    }
   ],
   "source": [
    "sns.catplot(data=df_vis, x=\"Type\", hue=\"cat_age\", col=\"City Group\", kind=\"count\", palette=\"flare\")"
   ]
  },
  {
   "attachments": {},
   "cell_type": "markdown",
   "id": "fd7c6afc",
   "metadata": {
    "papermill": {
     "duration": 0.019782,
     "end_time": "2022-10-02T18:18:03.809089",
     "exception": false,
     "start_time": "2022-10-02T18:18:03.789307",
     "status": "completed"
    },
    "tags": []
   },
   "source": [
    "**results:** \n",
    "\n",
    "* most of restaurants have a mid age in total cities.\n",
    "\n",
    "* number of new FC restaurants in other cities is much larger than another. maybe for low construction costs.\n"
   ]
  },
  {
   "cell_type": "code",
   "execution_count": null,
   "id": "e0aaf196",
   "metadata": {
    "execution": {
     "iopub.execute_input": "2022-10-02T18:18:03.851309Z",
     "iopub.status.busy": "2022-10-02T18:18:03.850896Z",
     "iopub.status.idle": "2022-10-02T18:18:04.698017Z",
     "shell.execute_reply": "2022-10-02T18:18:04.696946Z"
    },
    "papermill": {
     "duration": 0.870481,
     "end_time": "2022-10-02T18:18:04.700260",
     "exception": false,
     "start_time": "2022-10-02T18:18:03.829779",
     "status": "completed"
    },
    "tags": []
   },
   "outputs": [
    {
     "data": {
      "text/plain": [
       "<seaborn.axisgrid.FacetGrid at 0x7fd7912ee040>"
      ]
     },
     "execution_count": 21,
     "metadata": {},
     "output_type": "execute_result"
    },
    {
     "data": {
      "image/png": "[encoded data removed]",
      "text/plain": [
       "<Figure size 1615.37x500 with 3 Axes>"
      ]
     },
     "metadata": {},
     "output_type": "display_data"
    }
   ],
   "source": [
    "sns.catplot(data=df_vis, x=\"Type\", hue=\"City Group\", col=\"cat_age\", kind=\"count\", palette=\"flare\")"
   ]
  },
  {
   "attachments": {},
   "cell_type": "markdown",
   "id": "dc3c2f4e",
   "metadata": {
    "papermill": {
     "duration": 0.025207,
     "end_time": "2022-10-02T18:18:04.745943",
     "exception": false,
     "start_time": "2022-10-02T18:18:04.720736",
     "status": "completed"
    },
    "tags": []
   },
   "source": [
    "**results:**\n",
    "\n",
    "* number of FC restaurants in other city is bigger than big city, which opposite of another types."
   ]
  },
  {
   "cell_type": "code",
   "execution_count": null,
   "id": "d799aaca",
   "metadata": {
    "execution": {
     "iopub.execute_input": "2022-10-02T18:18:04.803252Z",
     "iopub.status.busy": "2022-10-02T18:18:04.802359Z",
     "iopub.status.idle": "2022-10-02T18:18:05.583239Z",
     "shell.execute_reply": "2022-10-02T18:18:05.582289Z"
    },
    "papermill": {
     "duration": 0.815028,
     "end_time": "2022-10-02T18:18:05.585477",
     "exception": false,
     "start_time": "2022-10-02T18:18:04.770449",
     "status": "completed"
    },
    "tags": []
   },
   "outputs": [
    {
     "data": {
      "text/plain": [
       "<seaborn.axisgrid.FacetGrid at 0x7fd790c94e80>"
      ]
     },
     "execution_count": 22,
     "metadata": {},
     "output_type": "execute_result"
    },
    {
     "data": {
      "image/png": "[encoded data removed]",
      "text/plain": [
       "<Figure size 1578.62x500 with 3 Axes>"
      ]
     },
     "metadata": {},
     "output_type": "display_data"
    }
   ],
   "source": [
    "sns.catplot(data=df_vis, x=\"cat_revenue\", hue=\"cat_age\", col=\"Type\", palette=\"flare\", kind=\"count\")"
   ]
  },
  {
   "attachments": {},
   "cell_type": "markdown",
   "id": "75fbf8d6",
   "metadata": {
    "papermill": {
     "duration": 0.020342,
     "end_time": "2022-10-02T18:18:05.626645",
     "exception": false,
     "start_time": "2022-10-02T18:18:05.606303",
     "status": "completed"
    },
    "tags": []
   },
   "source": [
    "**results:**\n",
    "\n",
    "* DT restaurant is not worth.\n",
    "\n",
    "* FC restaurants is worthy than another."
   ]
  },
  {
   "cell_type": "markdown",
   "id": "1cbc39a4",
   "metadata": {
    "papermill": {
     "duration": 0.020215,
     "end_time": "2022-10-02T18:18:05.708270",
     "exception": false,
     "start_time": "2022-10-02T18:18:05.688055",
     "status": "completed"
    },
    "tags": []
   },
   "source": [
    "<h1 id=\"heading\"><center>\n",
    "RESULTS\n",
    "<a class=\"anchor-link\" href=\"https://www.kaggle.com/h0sseinkarami/eda-and-regression-for-restaurant-revenue/notebook#heading\">¶</a></center>\n",
    "</h1>"
   ]
  },
  {
   "attachments": {},
   "cell_type": "markdown",
   "id": "aac57614",
   "metadata": {
    "papermill": {
     "duration": 0.020244,
     "end_time": "2022-10-02T18:18:05.749320",
     "exception": false,
     "start_time": "2022-10-02T18:18:05.729076",
     "status": "completed"
    },
    "tags": []
   },
   "source": [
    "* restaurants with high revenue are just in big cities.\n",
    "\n",
    "* DT restaurants are not good at all.\n",
    "\n",
    "* most of restaurants with high revenue are old and in big cities.\n",
    "\n",
    "* we could say number of restaurants with mid revenue in mid age and young age, almost equal. maybe for new technologies.\n",
    "\n",
    "* number of new restaurants in big cities is low against other cities. maybe for High construction costs in big cities.\n",
    "\n",
    "* total number of FC restaurant is greater than other types of restaurants.\n",
    "\n",
    "* in both city groups, FC restaurant have more revenue.\n",
    "\n",
    "* most of restaurants in other city group, have a low revenue. maybe for little pupulation.\n",
    "\n",
    "* most of restaurants have a mid age in total cities.\n",
    "\n",
    "* number of new FC restaurants in other cities is much larger than another. maybe for low construction costs.\n",
    "\n",
    "* number of FC restaurants in other city is bigger than big city, which opposite of another types.\n",
    "\n",
    "* DT restaurant is not worth.\n",
    "\n",
    "* FC restaurants is worthy than another."
   ]
  }
 ],
 "metadata": {
  "kernelspec": {
   "display_name": "tf",
   "language": "python",
   "name": "tf"
  },
  "language_info": {
   "codemirror_mode": {
    "name": "ipython",
    "version": 3
   },
   "file_extension": ".py",
   "mimetype": "text/x-python",
   "name": "python",
   "nbconvert_exporter": "python",
   "pygments_lexer": "ipython3",
   "version": "3.9.16"
  },
  "papermill": {
   "default_parameters": {},
   "duration": 43.149154,
   "end_time": "2022-10-02T18:18:25.211172",
   "environment_variables": {},
   "exception": null,
   "input_path": "__notebook__.ipynb",
   "output_path": "__notebook__.ipynb",
   "parameters": {},
   "start_time": "2022-10-02T18:17:42.062018",
   "version": "2.3.4"
  }
 },
 "nbformat": 4,
 "nbformat_minor": 5
}
